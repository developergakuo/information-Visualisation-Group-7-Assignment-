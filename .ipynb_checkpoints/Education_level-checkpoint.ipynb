{
 "cells": [
  {
   "cell_type": "code",
   "execution_count": 30,
   "metadata": {},
   "outputs": [],
   "source": [
    "import pandas as pd\n",
    "import numpy as np\n",
    "import re #Regex lib\n",
    "from forex_python.converter import CurrencyRates #currencies lib\n",
    "from datetime import datetime\n",
    "import matplotlib"
   ]
  },
  {
   "cell_type": "markdown",
   "metadata": {},
   "source": [
    "### Read in the dataframes and create a dict {(year, dataframe)}\n"
   ]
  },
  {
   "cell_type": "code",
   "execution_count": 31,
   "metadata": {},
   "outputs": [
    {
     "name": "stderr",
     "output_type": "stream",
     "text": [
      "/var/folders/h2/9wb_tlwj1bd2smbvq_25k5z4097jdb/T/ipykernel_15653/1446315357.py:9: DtypeWarning: Columns (8,12,13,14,15,16,50,51,52,53,55,56,57,58,59,60,61,62,63,64,65,66,67,68,69,70,71,72,73,74,75,76,77,78,79,80,81,82,83,84,85,93,94,95,96,97,98,99,100,101,102,103,104,105,106,107,108,109,110,111,112,113,114,115,116,117,118,119,120,121,122,123,124,125,126,127,128) have mixed types. Specify dtype option on import or set low_memory=False.\n",
      "  data_frames_dict[2018] = pd.read_csv('datasets/2018.csv', encoding = \"ISO-8859-1\").filter(items=['Country',  'FormalEducation']).dropna(thresh=2)\n"
     ]
    }
   ],
   "source": [
    "# Create a list of filenames for the datasets\n",
    "years = [2017, 2018, 2019, 2020, 2021]\n",
    "file_names = ['datasets/{}.csv'.format(year) for year in years]\n",
    "\n",
    "# Read in the dataframes and create a dict {(year, dataframe)}\n",
    "data_frames_dict = {}\n",
    "\n",
    "data_frames_dict[2017] = pd.read_csv('datasets/2017.csv', encoding = \"ISO-8859-1\").filter(items=['Country', 'FormalEducation']).dropna(thresh=2) \n",
    "data_frames_dict[2018] = pd.read_csv('datasets/2018.csv', encoding = \"ISO-8859-1\").filter(items=['Country',  'FormalEducation']).dropna(thresh=2) \n",
    "data_frames_dict[2019] = pd.read_csv('datasets/2019.csv', encoding = \"ISO-8859-1\").filter (items=['Country',  'EdLevel']).dropna(thresh=2) \n",
    "data_frames_dict[2020] = pd.read_csv('datasets/2020.csv', encoding = \"ISO-8859-1\").filter (items=['Country',  'EdLevel']).dropna(thresh=2) \n",
    "data_frames_dict[2021] = pd.read_csv('datasets/2021.csv', encoding = \"ISO-8859-1\").filter (items=['Country',  'EdLevel']).dropna(thresh=2) \n"
   ]
  },
  {
   "cell_type": "code",
   "execution_count": 32,
   "metadata": {},
   "outputs": [],
   "source": [
    "ed_dict =  {'Secondary school': 'Secondary school',\n",
    " \"Some college/university study without earning a bachelor's degree\" : \"college/university without bachelor's degree\",\n",
    " \"Bachelor's degree\": \"Bachelor's degree\",\n",
    " 'Doctoral degree': 'Doctoral degree',\n",
    " \"Master's degree\": \"Master's degree\",\n",
    " 'Professional degree': \"Professional degree\",\n",
    " 'Primary/elementary school': 'Primary/elementary school',\n",
    " 'I prefer not to answer': 'I prefer not to answer',\n",
    " 'I never completed any formal education': 'No formal education', \n",
    " 'Bachelorâ\\x80\\x99s degree (BA, BS, B.Eng., etc.)': \"Bachelor's degree\",\n",
    " 'Associate degree': 'Associate degree',\n",
    " 'Some college/university study without earning a degree': \"college/university without bachelor's degree\",\n",
    " 'Masterâ\\x80\\x99s degree (MA, MS, M.Eng., MBA, etc.)': \"Master's degree\",\n",
    " 'Secondary school (e.g. American high school, German Realschule or Gymnasium, etc.)': 'Secondary school',\n",
    " 'Professional degree (JD, MD, etc.)': \"Professional degree\",\n",
    " 'I never completed any formal education': 'No formal education', \n",
    " 'Other doctoral degree (Ph.D, Ed.D., etc.)':  'Doctoral degree',\n",
    " 'Associate degree (A.A., A.S., etc.)': 'Associate degree',\n",
    " 'Something else': 'Something else', \n",
    " 'Masterâ\\x80\\x99s degree (M.A., M.S., M.Eng., MBA, etc.)': \"Master's degree\",\n",
    " 'Bachelorâ\\x80\\x99s degree (B.A., B.S., B.Eng., etc.)' : \"Bachelor's degree\",\n",
    " 'Other doctoral degree (Ph.D., Ed.D., etc.)' : 'Doctoral degree'\n",
    "}\n",
    "\n",
    "\n",
    "    \n"
   ]
  },
  {
   "cell_type": "markdown",
   "metadata": {},
   "source": [
    "### obtain developer types \n"
   ]
  },
  {
   "cell_type": "code",
   "execution_count": 33,
   "metadata": {},
   "outputs": [
    {
     "name": "stdout",
     "output_type": "stream",
     "text": [
      "(201, 2)\n",
      "          Country  respondentsCount\n",
      "0     Afghanistan                60\n",
      "1   Aland Islands                22\n",
      "2         Albania                76\n",
      "3         Algeria                41\n",
      "4  American Samoa                 5\n",
      "(183, 2)\n",
      "       Country  respondentsCount\n",
      "0  Afghanistan                53\n",
      "1      Albania                99\n",
      "2      Algeria               116\n",
      "3      Andorra                12\n",
      "4       Angola                 8\n",
      "(178, 2)\n",
      "       Country  respondentsCount\n",
      "0  Afghanistan                39\n",
      "1      Albania                81\n",
      "2      Algeria               122\n",
      "3      Andorra                 7\n",
      "4       Angola                 3\n"
     ]
    },
    {
     "ename": "KeyError",
     "evalue": "'Other doctoral degree (Ph.D., Ed.D., etc.)'",
     "output_type": "error",
     "traceback": [
      "\u001b[0;31m---------------------------------------------------------------------------\u001b[0m",
      "\u001b[0;31mKeyError\u001b[0m                                  Traceback (most recent call last)",
      "Input \u001b[0;32mIn [33]\u001b[0m, in \u001b[0;36m<cell line: 3>\u001b[0;34m()\u001b[0m\n\u001b[1;32m      4\u001b[0m df\u001b[38;5;241m.\u001b[39mcolumns \u001b[38;5;241m=\u001b[39m [\u001b[38;5;124m'\u001b[39m\u001b[38;5;124mCountry\u001b[39m\u001b[38;5;124m'\u001b[39m,  \u001b[38;5;124m'\u001b[39m\u001b[38;5;124mEdLevel\u001b[39m\u001b[38;5;124m'\u001b[39m]\n\u001b[1;32m      9\u001b[0m \u001b[38;5;66;03m# get unique satisfactions\u001b[39;00m\n\u001b[1;32m     10\u001b[0m \u001b[38;5;66;03m#print(df.JobSatisfaction.unique())\u001b[39;00m\n\u001b[0;32m---> 12\u001b[0m df[\u001b[38;5;124m'\u001b[39m\u001b[38;5;124mEdLevel\u001b[39m\u001b[38;5;124m'\u001b[39m] \u001b[38;5;241m=\u001b[39m \u001b[43mdf\u001b[49m\u001b[38;5;241;43m.\u001b[39;49m\u001b[43mEdLevel\u001b[49m\u001b[38;5;241;43m.\u001b[39;49m\u001b[43mapply\u001b[49m\u001b[43m(\u001b[49m\u001b[38;5;28;43;01mlambda\u001b[39;49;00m\u001b[43m \u001b[49m\u001b[43mx\u001b[49m\u001b[43m:\u001b[49m\u001b[43m \u001b[49m\u001b[43med_dict\u001b[49m\u001b[43m[\u001b[49m\u001b[43mx\u001b[49m\u001b[43m]\u001b[49m\u001b[43m)\u001b[49m\n\u001b[1;32m     14\u001b[0m df2 \u001b[38;5;241m=\u001b[39m df\u001b[38;5;241m.\u001b[39mcopy(deep\u001b[38;5;241m=\u001b[39m\u001b[38;5;28;01mTrue\u001b[39;00m)\n\u001b[1;32m     16\u001b[0m df[\u001b[38;5;124m'\u001b[39m\u001b[38;5;124mEdLevelCount\u001b[39m\u001b[38;5;124m'\u001b[39m] \u001b[38;5;241m=\u001b[39m pd\u001b[38;5;241m.\u001b[39mSeries(np\u001b[38;5;241m.\u001b[39mones(\u001b[38;5;28mlen\u001b[39m(df\u001b[38;5;241m.\u001b[39mEdLevel),dtype\u001b[38;5;241m=\u001b[39m np\u001b[38;5;241m.\u001b[39mint32), index\u001b[38;5;241m=\u001b[39mdf\u001b[38;5;241m.\u001b[39mindex)  \n",
      "File \u001b[0;32m/usr/local/anaconda3/envs/info_vis_env/lib/python3.9/site-packages/pandas/core/series.py:4433\u001b[0m, in \u001b[0;36mSeries.apply\u001b[0;34m(self, func, convert_dtype, args, **kwargs)\u001b[0m\n\u001b[1;32m   4323\u001b[0m \u001b[38;5;28;01mdef\u001b[39;00m \u001b[38;5;21mapply\u001b[39m(\n\u001b[1;32m   4324\u001b[0m     \u001b[38;5;28mself\u001b[39m,\n\u001b[1;32m   4325\u001b[0m     func: AggFuncType,\n\u001b[0;32m   (...)\u001b[0m\n\u001b[1;32m   4328\u001b[0m     \u001b[38;5;241m*\u001b[39m\u001b[38;5;241m*\u001b[39mkwargs,\n\u001b[1;32m   4329\u001b[0m ) \u001b[38;5;241m-\u001b[39m\u001b[38;5;241m>\u001b[39m DataFrame \u001b[38;5;241m|\u001b[39m Series:\n\u001b[1;32m   4330\u001b[0m     \u001b[38;5;124;03m\"\"\"\u001b[39;00m\n\u001b[1;32m   4331\u001b[0m \u001b[38;5;124;03m    Invoke function on values of Series.\u001b[39;00m\n\u001b[1;32m   4332\u001b[0m \n\u001b[0;32m   (...)\u001b[0m\n\u001b[1;32m   4431\u001b[0m \u001b[38;5;124;03m    dtype: float64\u001b[39;00m\n\u001b[1;32m   4432\u001b[0m \u001b[38;5;124;03m    \"\"\"\u001b[39;00m\n\u001b[0;32m-> 4433\u001b[0m     \u001b[38;5;28;01mreturn\u001b[39;00m \u001b[43mSeriesApply\u001b[49m\u001b[43m(\u001b[49m\u001b[38;5;28;43mself\u001b[39;49m\u001b[43m,\u001b[49m\u001b[43m \u001b[49m\u001b[43mfunc\u001b[49m\u001b[43m,\u001b[49m\u001b[43m \u001b[49m\u001b[43mconvert_dtype\u001b[49m\u001b[43m,\u001b[49m\u001b[43m \u001b[49m\u001b[43margs\u001b[49m\u001b[43m,\u001b[49m\u001b[43m \u001b[49m\u001b[43mkwargs\u001b[49m\u001b[43m)\u001b[49m\u001b[38;5;241;43m.\u001b[39;49m\u001b[43mapply\u001b[49m\u001b[43m(\u001b[49m\u001b[43m)\u001b[49m\n",
      "File \u001b[0;32m/usr/local/anaconda3/envs/info_vis_env/lib/python3.9/site-packages/pandas/core/apply.py:1082\u001b[0m, in \u001b[0;36mSeriesApply.apply\u001b[0;34m(self)\u001b[0m\n\u001b[1;32m   1078\u001b[0m \u001b[38;5;28;01mif\u001b[39;00m \u001b[38;5;28misinstance\u001b[39m(\u001b[38;5;28mself\u001b[39m\u001b[38;5;241m.\u001b[39mf, \u001b[38;5;28mstr\u001b[39m):\n\u001b[1;32m   1079\u001b[0m     \u001b[38;5;66;03m# if we are a string, try to dispatch\u001b[39;00m\n\u001b[1;32m   1080\u001b[0m     \u001b[38;5;28;01mreturn\u001b[39;00m \u001b[38;5;28mself\u001b[39m\u001b[38;5;241m.\u001b[39mapply_str()\n\u001b[0;32m-> 1082\u001b[0m \u001b[38;5;28;01mreturn\u001b[39;00m \u001b[38;5;28;43mself\u001b[39;49m\u001b[38;5;241;43m.\u001b[39;49m\u001b[43mapply_standard\u001b[49m\u001b[43m(\u001b[49m\u001b[43m)\u001b[49m\n",
      "File \u001b[0;32m/usr/local/anaconda3/envs/info_vis_env/lib/python3.9/site-packages/pandas/core/apply.py:1137\u001b[0m, in \u001b[0;36mSeriesApply.apply_standard\u001b[0;34m(self)\u001b[0m\n\u001b[1;32m   1131\u001b[0m         values \u001b[38;5;241m=\u001b[39m obj\u001b[38;5;241m.\u001b[39mastype(\u001b[38;5;28mobject\u001b[39m)\u001b[38;5;241m.\u001b[39m_values\n\u001b[1;32m   1132\u001b[0m         \u001b[38;5;66;03m# error: Argument 2 to \"map_infer\" has incompatible type\u001b[39;00m\n\u001b[1;32m   1133\u001b[0m         \u001b[38;5;66;03m# \"Union[Callable[..., Any], str, List[Union[Callable[..., Any], str]],\u001b[39;00m\n\u001b[1;32m   1134\u001b[0m         \u001b[38;5;66;03m# Dict[Hashable, Union[Union[Callable[..., Any], str],\u001b[39;00m\n\u001b[1;32m   1135\u001b[0m         \u001b[38;5;66;03m# List[Union[Callable[..., Any], str]]]]]\"; expected\u001b[39;00m\n\u001b[1;32m   1136\u001b[0m         \u001b[38;5;66;03m# \"Callable[[Any], Any]\"\u001b[39;00m\n\u001b[0;32m-> 1137\u001b[0m         mapped \u001b[38;5;241m=\u001b[39m \u001b[43mlib\u001b[49m\u001b[38;5;241;43m.\u001b[39;49m\u001b[43mmap_infer\u001b[49m\u001b[43m(\u001b[49m\n\u001b[1;32m   1138\u001b[0m \u001b[43m            \u001b[49m\u001b[43mvalues\u001b[49m\u001b[43m,\u001b[49m\n\u001b[1;32m   1139\u001b[0m \u001b[43m            \u001b[49m\u001b[43mf\u001b[49m\u001b[43m,\u001b[49m\u001b[43m  \u001b[49m\u001b[38;5;66;43;03m# type: ignore[arg-type]\u001b[39;49;00m\n\u001b[1;32m   1140\u001b[0m \u001b[43m            \u001b[49m\u001b[43mconvert\u001b[49m\u001b[38;5;241;43m=\u001b[39;49m\u001b[38;5;28;43mself\u001b[39;49m\u001b[38;5;241;43m.\u001b[39;49m\u001b[43mconvert_dtype\u001b[49m\u001b[43m,\u001b[49m\n\u001b[1;32m   1141\u001b[0m \u001b[43m        \u001b[49m\u001b[43m)\u001b[49m\n\u001b[1;32m   1143\u001b[0m \u001b[38;5;28;01mif\u001b[39;00m \u001b[38;5;28mlen\u001b[39m(mapped) \u001b[38;5;129;01mand\u001b[39;00m \u001b[38;5;28misinstance\u001b[39m(mapped[\u001b[38;5;241m0\u001b[39m], ABCSeries):\n\u001b[1;32m   1144\u001b[0m     \u001b[38;5;66;03m# GH#43986 Need to do list(mapped) in order to get treated as nested\u001b[39;00m\n\u001b[1;32m   1145\u001b[0m     \u001b[38;5;66;03m#  See also GH#25959 regarding EA support\u001b[39;00m\n\u001b[1;32m   1146\u001b[0m     \u001b[38;5;28;01mreturn\u001b[39;00m obj\u001b[38;5;241m.\u001b[39m_constructor_expanddim(\u001b[38;5;28mlist\u001b[39m(mapped), index\u001b[38;5;241m=\u001b[39mobj\u001b[38;5;241m.\u001b[39mindex)\n",
      "File \u001b[0;32m/usr/local/anaconda3/envs/info_vis_env/lib/python3.9/site-packages/pandas/_libs/lib.pyx:2870\u001b[0m, in \u001b[0;36mpandas._libs.lib.map_infer\u001b[0;34m()\u001b[0m\n",
      "Input \u001b[0;32mIn [33]\u001b[0m, in \u001b[0;36m<lambda>\u001b[0;34m(x)\u001b[0m\n\u001b[1;32m      4\u001b[0m df\u001b[38;5;241m.\u001b[39mcolumns \u001b[38;5;241m=\u001b[39m [\u001b[38;5;124m'\u001b[39m\u001b[38;5;124mCountry\u001b[39m\u001b[38;5;124m'\u001b[39m,  \u001b[38;5;124m'\u001b[39m\u001b[38;5;124mEdLevel\u001b[39m\u001b[38;5;124m'\u001b[39m]\n\u001b[1;32m      9\u001b[0m \u001b[38;5;66;03m# get unique satisfactions\u001b[39;00m\n\u001b[1;32m     10\u001b[0m \u001b[38;5;66;03m#print(df.JobSatisfaction.unique())\u001b[39;00m\n\u001b[0;32m---> 12\u001b[0m df[\u001b[38;5;124m'\u001b[39m\u001b[38;5;124mEdLevel\u001b[39m\u001b[38;5;124m'\u001b[39m] \u001b[38;5;241m=\u001b[39m df\u001b[38;5;241m.\u001b[39mEdLevel\u001b[38;5;241m.\u001b[39mapply(\u001b[38;5;28;01mlambda\u001b[39;00m x: \u001b[43med_dict\u001b[49m\u001b[43m[\u001b[49m\u001b[43mx\u001b[49m\u001b[43m]\u001b[49m)\n\u001b[1;32m     14\u001b[0m df2 \u001b[38;5;241m=\u001b[39m df\u001b[38;5;241m.\u001b[39mcopy(deep\u001b[38;5;241m=\u001b[39m\u001b[38;5;28;01mTrue\u001b[39;00m)\n\u001b[1;32m     16\u001b[0m df[\u001b[38;5;124m'\u001b[39m\u001b[38;5;124mEdLevelCount\u001b[39m\u001b[38;5;124m'\u001b[39m] \u001b[38;5;241m=\u001b[39m pd\u001b[38;5;241m.\u001b[39mSeries(np\u001b[38;5;241m.\u001b[39mones(\u001b[38;5;28mlen\u001b[39m(df\u001b[38;5;241m.\u001b[39mEdLevel),dtype\u001b[38;5;241m=\u001b[39m np\u001b[38;5;241m.\u001b[39mint32), index\u001b[38;5;241m=\u001b[39mdf\u001b[38;5;241m.\u001b[39mindex)  \n",
      "\u001b[0;31mKeyError\u001b[0m: 'Other doctoral degree (Ph.D., Ed.D., etc.)'"
     ]
    }
   ],
   "source": [
    "import codecs\n",
    "import json\n",
    "for year, df in data_frames_dict.items():\n",
    "    df.columns = ['Country',  'EdLevel']\n",
    "  \n",
    "    \n",
    "\n",
    "    \n",
    "    # get unique satisfactions\n",
    "    #print(df.JobSatisfaction.unique())\n",
    "   \n",
    "    df['EdLevel'] = df.EdLevel.apply(lambda x: ed_dict[x])\n",
    "        \n",
    "    df2 = df.copy(deep=True)\n",
    "       \n",
    "    df['EdLevelCount'] = pd.Series(np.ones(len(df.EdLevel),dtype= np.int32), index=df.index)  \n",
    "    df = df.groupby(by=['Country','EdLevel'] , as_index=False).sum()\n",
    "   \n",
    "    \n",
    "    \n",
    "    json_dict = {}\n",
    "    for k, v in df.groupby('Country'):\n",
    "        inner_dict = {}\n",
    "        for sat, count in zip(v['EdLevel'], v['EdLevelCount']):\n",
    "            inner_dict[sat] = count \n",
    "        json_dict[k] = inner_dict\n",
    "        \n",
    " \n",
    "        \n",
    "    with codecs.open(\"processed_data/education/{}-education_count_per_country.json\".format(year), \"w\", encoding='utf-8') as outfile:\n",
    "        json.dump(json_dict, outfile, indent = 4, ensure_ascii=False)\n",
    "\n",
    "    \n",
    "    df2.columns = ['Country', 'respondentsCount']\n",
    "\n",
    "    df2 = df2.groupby(by=['Country'] , as_index=False).count()\n",
    "    \n",
    "    print(df2.shape)\n",
    "        \n",
    "    print(df2.head())\n",
    "    \n",
    "    json_dict2 = {}\n",
    "    for index, row in df2.iterrows():\n",
    "        json_dict2[row[\"Country\"]] = row[\"respondentsCount\"]\n",
    "  \n",
    "\n",
    "    \n",
    "  \n",
    "    with codecs.open(\"processed_data/education/{}-education_respondents_count_per_country.json\".format(year), \"w\", encoding='utf-8') as outfile:\n",
    "        json.dump(json_dict2, outfile, indent = 4, ensure_ascii=False)\n",
    "\n"
   ]
  },
  {
   "cell_type": "code",
   "execution_count": null,
   "metadata": {},
   "outputs": [],
   "source": []
  }
 ],
 "metadata": {
  "kernelspec": {
   "display_name": "Python 3 (ipykernel)",
   "language": "python",
   "name": "python3"
  },
  "language_info": {
   "codemirror_mode": {
    "name": "ipython",
    "version": 3
   },
   "file_extension": ".py",
   "mimetype": "text/x-python",
   "name": "python",
   "nbconvert_exporter": "python",
   "pygments_lexer": "ipython3",
   "version": "3.9.12"
  }
 },
 "nbformat": 4,
 "nbformat_minor": 4
}
