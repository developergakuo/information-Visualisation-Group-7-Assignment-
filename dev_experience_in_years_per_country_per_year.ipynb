{
 "cells": [
  {
   "cell_type": "code",
   "execution_count": 55,
   "metadata": {},
   "outputs": [],
   "source": [
    "import pandas as pd\n",
    "import numpy as np\n",
    "import re #Regex lib\n",
    "from forex_python.converter import CurrencyRates #currencies lib\n",
    "from datetime import datetime\n",
    "import matplotlib"
   ]
  },
  {
   "cell_type": "markdown",
   "metadata": {},
   "source": [
    "### Read in the dataframes and create a dict {(year, dataframe)}\n"
   ]
  },
  {
   "cell_type": "code",
   "execution_count": 56,
   "metadata": {},
   "outputs": [
    {
     "name": "stderr",
     "output_type": "stream",
     "text": [
      "/usr/local/anaconda3/lib/python3.9/site-packages/IPython/core/interactiveshell.py:3444: DtypeWarning: Columns (8,12,13,14,15,16,50,51,52,53,55,56,57,58,59,60,61,62,63,64,65,66,67,68,69,70,71,72,73,74,75,76,77,78,79,80,81,82,83,84,85,93,94,95,96,97,98,99,100,101,102,103,104,105,106,107,108,109,110,111,112,113,114,115,116,117,118,119,120,121,122,123,124,125,126,127,128) have mixed types.Specify dtype option on import or set low_memory=False.\n",
      "  exec(code_obj, self.user_global_ns, self.user_ns)\n"
     ]
    }
   ],
   "source": [
    "# read data frames\n",
    "data_frames_dict = {}\n",
    "\n",
    "data_frames_dict[2017] = pd.read_csv('datasets/2017.csv', encoding = \"ISO-8859-1\").filter(items=['Country', 'YearsCodedJob']).dropna(thresh=2) \n",
    "data_frames_dict[2018] = pd.read_csv('datasets/2018.csv', encoding = \"ISO-8859-1\").filter(items=['Country',  'YearsCodingProf']).dropna(thresh=2) \n",
    "data_frames_dict[2019] = pd.read_csv('datasets/2019.csv', encoding = \"ISO-8859-1\").filter (items=['Country',  'YearsCodePro']).dropna(thresh=2) \n",
    "data_frames_dict[2020] = pd.read_csv('datasets/2020.csv', encoding = \"ISO-8859-1\").filter (items=['Country',  'YearsCodePro']).dropna(thresh=2) \n",
    "data_frames_dict[2021] = pd.read_csv('datasets/2020.csv', encoding = \"ISO-8859-1\").filter (items=['Country',  'YearsCodePro']).dropna(thresh=2) \n"
   ]
  },
  {
   "cell_type": "code",
   "execution_count": 57,
   "metadata": {},
   "outputs": [],
   "source": [
    "def experience_mapper(experience):\n",
    "    \n",
    "    try:\n",
    "        experience = int(experience)\n",
    "        if experience <= 2:\n",
    "            return '0-2 years' \n",
    "        elif experience >= 3 and experience <= 5:\n",
    "            return '3-5 years'\n",
    "        elif experience >= 6 and experience <= 8:\n",
    "            return  '6-8 years' \n",
    "        elif experience >= 9 and experience <= 11:\n",
    "            return  '9-11 years' \n",
    "        elif experience >= 12 and experience <= 14:\n",
    "            return '12-14 years' \n",
    "        elif experience >= 15 and experience <= 17:\n",
    "            return  '15-17 years'\n",
    "        elif experience >= 18 and experience <= 20:\n",
    "            return '18-20 years'\n",
    "        elif experience >= 21:\n",
    "            return '> 20 years'\n",
    "        else:\n",
    "            raise Exception(\"Invalid {} experience - : {}\".format(type(exerience), experience))\n",
    "    except ValueError: \n",
    "        if isinstance(experience, str):\n",
    "               if experience == '0-2 years':\n",
    "                return '0-2 years' \n",
    "               elif experience ==  'Less than a year':\n",
    "                return '0-2 years'\n",
    "               elif experience == '1 to 2 years':\n",
    "                return '0-2 years'\n",
    "               elif experience ==  'Less than 1 year':\n",
    "                return '0-2 years'\n",
    "               elif experience == '2 to 3 years':\n",
    "                return '3-5 years'\n",
    "               elif experience == '3 to 4 years':\n",
    "                return '3-5 years'\n",
    "               elif experience == '3-5 years':\n",
    "                return '3-5 years'\n",
    "               elif experience == '4 to 5 years':\n",
    "                return '3-5 years'\n",
    "               elif experience ==  '5 to 6 years':\n",
    "                return '3-5 years'\n",
    "               elif experience == '6 to 7 years':\n",
    "                return '6-8 years'\n",
    "               elif experience == '7 to 8 years': \n",
    "                return  '6-8 years'\n",
    "               elif experience ==  '6-8 years':\n",
    "                return  '6-8 years'\n",
    "               elif experience == '8 to 9 years':\n",
    "                return  '6-8 years'   \n",
    "               elif experience ==  '9 to 10 years':\n",
    "                return '9-11 years'\n",
    "               elif experience == '10 to 11 years':\n",
    "                return '9-11 years'\n",
    "               elif experience == '9-11 years':\n",
    "                return '9-11 years'\n",
    "               elif experience ==  '11 to 12 years':\n",
    "                return '9-11 years'\n",
    "               elif experience ==  '12 to 13 years':\n",
    "                return '12-14 years'\n",
    "               elif experience == '13 to 14 years':\n",
    "                return '12-14 years'\n",
    "               elif experience == '12-14 years':\n",
    "                return '12-14 years'\n",
    "               elif experience ==  '14 to 15 years':\n",
    "                return '12-14 years'\n",
    "               elif experience == '15 to 16 years':\n",
    "                return '15-17 years'\n",
    "               elif experience == '15-17 years':\n",
    "                return  '15-17 years'\n",
    "               elif experience == '16 to 17 years':\n",
    "                return  '15-17 years'\n",
    "               elif experience == '17 to 18 years':\n",
    "                return  '15-17 years'\n",
    "               elif experience ==  '18 to 19 years':\n",
    "                return '18-20 years'\n",
    "               elif experience == '19 to 20 years':\n",
    "                return '18-20 years'\n",
    "               elif experience == '18-20 years':\n",
    "                return '18-20 years'\n",
    "               elif experience ==  '20 or more years':\n",
    "                return '> 20 years'\n",
    "               elif experience == '> 20 years':\n",
    "                return '> 20 years'   \n",
    "               elif experience == '21-23 years':\n",
    "                return '> 20 years'\n",
    "               elif experience == '24-26 years':\n",
    "                return '> 20 years'\n",
    "               elif experience == '27-29 years':\n",
    "                return '> 20 years'\n",
    "               elif experience == '30 or more years':\n",
    "                return '> 20 years'\n",
    "               elif experience == 'More than 50 years':\n",
    "                return '> 20 years'\n",
    "               else:\n",
    "                raise Exception(\"Invalid experience: {}\".format(experience))\n",
    "    \n"
   ]
  },
  {
   "cell_type": "markdown",
   "metadata": {},
   "source": [
    "### obtain developer types \n"
   ]
  },
  {
   "cell_type": "code",
   "execution_count": 58,
   "metadata": {},
   "outputs": [
    {
     "name": "stdout",
     "output_type": "stream",
     "text": [
      "       Country YearsCodePro  YearsCodeProCount\n",
      "0  Afghanistan    0-2 years               11.0\n",
      "1  Afghanistan  15-17 years                2.0\n",
      "2  Afghanistan  18-20 years                3.0\n",
      "3  Afghanistan    3-5 years                9.0\n",
      "4  Afghanistan   9-11 years                2.0\n",
      "       Country YearsCodePro  YearsCodeProCount\n",
      "0  Afghanistan    0-2 years               16.0\n",
      "1  Afghanistan  15-17 years                1.0\n",
      "2  Afghanistan  18-20 years                1.0\n",
      "3  Afghanistan    3-5 years                6.0\n",
      "4  Afghanistan    6-8 years                2.0\n",
      "       Country YearsCodePro  YearsCodeProCount\n",
      "0  Afghanistan    0-2 years               13.0\n",
      "1  Afghanistan  15-17 years                5.0\n",
      "2  Afghanistan  18-20 years                1.0\n",
      "3  Afghanistan    3-5 years                3.0\n",
      "4  Afghanistan    6-8 years                2.0\n",
      "       Country YearsCodePro  YearsCodeProCount\n",
      "0  Afghanistan    0-2 years               12.0\n",
      "1  Afghanistan    3-5 years               11.0\n",
      "2  Afghanistan    6-8 years                3.0\n",
      "3  Afghanistan   9-11 years                1.0\n",
      "4  Afghanistan   > 20 years                7.0\n",
      "       Country YearsCodePro  YearsCodeProCount\n",
      "0  Afghanistan    0-2 years               12.0\n",
      "1  Afghanistan    3-5 years               11.0\n",
      "2  Afghanistan    6-8 years                3.0\n",
      "3  Afghanistan   9-11 years                1.0\n",
      "4  Afghanistan   > 20 years                7.0\n"
     ]
    }
   ],
   "source": [
    "for year, df in data_frames_dict.items():\n",
    "    df.columns = ['Country', 'YearsCodePro']\n",
    "    df.YearsCodePro = df.YearsCodePro.apply(lambda x:experience_mapper(x) )\n",
    "    \n",
    "    df['YearsCodeProCount'] = pd.Series(np.ones(len(df.YearsCodePro)), index=df.index)  \n",
    "   \n",
    "\n",
    "    df = df.groupby(by=['Country','YearsCodePro'] , as_index=False).sum()\n",
    "    print(df.head())\n",
    "    df.to_csv(path_or_buf = 'processed_data/experience/{}-experience_count_per_country.csv'.format(year), index=False)\n",
    "   "
   ]
  },
  {
   "cell_type": "code",
   "execution_count": null,
   "metadata": {},
   "outputs": [],
   "source": []
  }
 ],
 "metadata": {
  "kernelspec": {
   "display_name": "Python 3 (ipykernel)",
   "language": "python",
   "name": "python3"
  },
  "language_info": {
   "codemirror_mode": {
    "name": "ipython",
    "version": 3
   },
   "file_extension": ".py",
   "mimetype": "text/x-python",
   "name": "python",
   "nbconvert_exporter": "python",
   "pygments_lexer": "ipython3",
   "version": "3.9.7"
  }
 },
 "nbformat": 4,
 "nbformat_minor": 4
}
