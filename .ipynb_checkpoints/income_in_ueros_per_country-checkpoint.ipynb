{
 "cells": [
  {
   "cell_type": "code",
   "execution_count": 111,
   "metadata": {},
   "outputs": [],
   "source": [
    "import pandas as pd\n",
    "import numpy as np\n",
    "import re #Regex lib\n",
    "from forex_python.converter import CurrencyRates #currencies lib\n",
    "from datetime import datetime\n",
    "import matplotlib"
   ]
  },
  {
   "cell_type": "markdown",
   "metadata": {},
   "source": [
    "### Read in the dataframes and create a dict {(year, dataframe)}\n"
   ]
  },
  {
   "cell_type": "code",
   "execution_count": 112,
   "metadata": {},
   "outputs": [
    {
     "name": "stderr",
     "output_type": "stream",
     "text": [
      "/usr/local/anaconda3/lib/python3.9/site-packages/IPython/core/interactiveshell.py:3444: DtypeWarning: Columns (8,12,13,14,15,16,50,51,52,53,55,56,57,58,59,60,61,62,63,64,65,66,67,68,69,70,71,72,73,74,75,76,77,78,79,80,81,82,83,84,85,93,94,95,96,97,98,99,100,101,102,103,104,105,106,107,108,109,110,111,112,113,114,115,116,117,118,119,120,121,122,123,124,125,126,127,128) have mixed types.Specify dtype option on import or set low_memory=False.\n",
      "  exec(code_obj, self.user_global_ns, self.user_ns)\n"
     ]
    }
   ],
   "source": [
    "# Create a list of filenames for the datasets\n",
    "\n",
    "data_frames_dict = {}\n",
    "\n",
    "data_frames_dict[2017] = pd.read_csv('datasets/2017.csv', encoding = \"ISO-8859-1\").filter(items=['Country', 'Currency',  'Salary', 'YearsCodedJob']).dropna(thresh=4) \n",
    "data_frames_dict[2018] = pd.read_csv('datasets/2018.csv', encoding = \"ISO-8859-1\").filter(items=['Country',  'ConvertedSalary', 'YearsCodingProf']).dropna(thresh=3) \n",
    "data_frames_dict[2019] = pd.read_csv('datasets/2019.csv', encoding = \"ISO-8859-1\").filter (items=['Country',  'CompTotal', 'YearsCodePro']).dropna(thresh=3) \n",
    "data_frames_dict[2020] = pd.read_csv('datasets/2020.csv', encoding = \"ISO-8859-1\").filter (items=['Country',  'CompTotal', 'YearsCodePro']).dropna(thresh=3) \n",
    "data_frames_dict[2021] = pd.read_csv('datasets/2021.csv', encoding = \"ISO-8859-1\").filter (items=['Country',  'CompTotal', 'YearsCodePro']).dropna(thresh=3) \n"
   ]
  },
  {
   "cell_type": "markdown",
   "metadata": {},
   "source": [
    "# Section 1: Salary preprocessing"
   ]
  },
  {
   "cell_type": "markdown",
   "metadata": {},
   "source": [
    "### The following currencies were found in the datasets and could not be converted to their equivalent currency symbols"
   ]
  },
  {
   "cell_type": "code",
   "execution_count": 113,
   "metadata": {},
   "outputs": [],
   "source": [
    "currency_dict = {'Australian dollars (A$)': 'AUD',\n",
    " 'Bitcoin (btc)': 'btc',\n",
    " 'Brazilian reais (R$)': 'BRL',\n",
    " 'British pounds sterling (Â£)': 'GBP',\n",
    " 'Canadian dollars (C$)': 'CAD',\n",
    " 'Chinese yuan renminbi (Â¥)': 'CNY',\n",
    " 'Euros (â\\x82¬)': 'EUR',\n",
    " 'Indian rupees (?)': 'INR',\n",
    " 'Japanese yen (Â¥)': 'JPY',\n",
    " 'Polish zloty (zl)': 'PLN',\n",
    " 'Russian rubles (?)': 'RUB',\n",
    " 'Singapore dollars (S$)': 'SGD',\n",
    " 'South African rands (R)': 'ZAR',\n",
    " 'Swiss francs': 'CHF',\n",
    " 'U.S. dollars ($)': 'USD',\n",
    " 'none\\tCook Islands dollar': 'NZD'}"
   ]
  },
  {
   "cell_type": "markdown",
   "metadata": {},
   "source": [
    "### Compute currency symbols and add them to the 'currency_dict'"
   ]
  },
  {
   "cell_type": "code",
   "execution_count": 114,
   "metadata": {},
   "outputs": [
    {
     "name": "stdout",
     "output_type": "stream",
     "text": [
      "2017 year dataframe has a 'Currency' column \n"
     ]
    }
   ],
   "source": [
    "#helper function to covert currency to its symbol \n",
    "def add_currencies_to_dict(currency, currency_dict):\n",
    "        currency_symbol = re.findall(r'[ˆA-Z]{3}', currency )\n",
    "\n",
    "        if currency_symbol:\n",
    "            # redundnat to add symbol to a dict {symbol -> symbol}but helps to treat all currencies the same\n",
    "            currency_dict[currency] = currency_symbol[0]\n",
    "        else:\n",
    "            if currency not in currency_dict:\n",
    "                print(\"WARN: there is no conversion available for this currency {}\".format(currency))\n",
    "\n",
    "\n",
    "# go through the  'CurrencySymbol' column if exists, otherwise 'Currency' \n",
    "# add all currencies that are not NaN to the 'currency_dict'\n",
    "for year , df in data_frames_dict.items():\n",
    "    \n",
    "    # Check if Currecny column is present in df\n",
    "    if 'CurrencySymbol' in df:\n",
    "        print(\"{} year dataframe has a 'CurrencySymbol' column \".format(year))\n",
    "        for currency_symbol in df.CurrencySymbol:\n",
    "            #check for NaN\n",
    "            if not pd.isna(currency_symbol):\n",
    "                # redundnat to add symbol to a dict {symbol -> symbol}but helps to treat all currencies the same\n",
    "                currency_dict[currency_symbol] = currency_symbol\n",
    "    elif 'Currency' in df:\n",
    "        print(\"{} year dataframe has a 'Currency' column \".format(year))\n",
    "        for currency in df.Currency:\n",
    "            #check for NaN\n",
    "            if not pd.isna(currency):\n",
    "                # add to dict {currency -> currency_symbol}\n",
    "                add_currencies_to_dict(currency, currency_dict)   \n",
    "                "
   ]
  },
  {
   "cell_type": "markdown",
   "metadata": {},
   "source": [
    "### Preporcess the salary related columns (currency, salary, salary type etc ) for datasets"
   ]
  },
  {
   "cell_type": "markdown",
   "metadata": {},
   "source": [
    "#### Auxilliary/helper methods for currency conversions"
   ]
  },
  {
   "cell_type": "code",
   "execution_count": 115,
   "metadata": {},
   "outputs": [],
   "source": [
    "\n",
    "def convert_currency(amount, currency, factor):\n",
    "    return available_currencies_for_conversion[currency] * amount * factor\n",
    "\n",
    "\n",
    "currency_converter = CurrencyRates()\n",
    "date = datetime(2017, 12, 31, 18, 36, 28, 151012)\n",
    "\n",
    "available_currencies_for_conversion = currency_converter.get_rates('EUR', date)\n",
    "\n",
    "available_currencies_for_conversion['EUR']  = 1\n",
    "\n",
    "# Take care of outlier salaries \n",
    "# max montly income in euros\n",
    "max_montly_salary = 20000\n",
    "\n",
    "# minimum mothly income in euros\n",
    "min_montly_salary = 0"
   ]
  },
  {
   "cell_type": "code",
   "execution_count": 116,
   "metadata": {},
   "outputs": [],
   "source": [
    "#Dictionary to hold processed payments/salary dataframes for yeas 2017 - 2021\n",
    "\n",
    "clean_payment_dataframes_2017_to_2020 ={}"
   ]
  },
  {
   "cell_type": "markdown",
   "metadata": {},
   "source": [
    "### Process 2017 payments"
   ]
  },
  {
   "cell_type": "code",
   "execution_count": 117,
   "metadata": {},
   "outputs": [
    {
     "name": "stderr",
     "output_type": "stream",
     "text": [
      "/var/folders/h2/9wb_tlwj1bd2smbvq_25k5z4097jdb/T/ipykernel_2484/4216822624.py:15: SettingWithCopyWarning: \n",
      "A value is trying to be set on a copy of a slice from a DataFrame.\n",
      "Try using .loc[row_indexer,col_indexer] = value instead\n",
      "\n",
      "See the caveats in the documentation: https://pandas.pydata.org/pandas-docs/stable/user_guide/indexing.html#returning-a-view-versus-a-copy\n",
      "  df_2017['Monthly_Sal_EUR'] = df_2017.apply(lambda row : convert_currency(row['Salary'],\n"
     ]
    },
    {
     "data": {
      "text/html": [
       "<div>\n",
       "<style scoped>\n",
       "    .dataframe tbody tr th:only-of-type {\n",
       "        vertical-align: middle;\n",
       "    }\n",
       "\n",
       "    .dataframe tbody tr th {\n",
       "        vertical-align: top;\n",
       "    }\n",
       "\n",
       "    .dataframe thead th {\n",
       "        text-align: right;\n",
       "    }\n",
       "</style>\n",
       "<table border=\"1\" class=\"dataframe\">\n",
       "  <thead>\n",
       "    <tr style=\"text-align: right;\">\n",
       "      <th></th>\n",
       "      <th>Country</th>\n",
       "      <th>YearsCodePro</th>\n",
       "      <th>Monthly_Sal_EUR</th>\n",
       "    </tr>\n",
       "  </thead>\n",
       "  <tbody>\n",
       "    <tr>\n",
       "      <th>2</th>\n",
       "      <td>United Kingdom</td>\n",
       "      <td>20</td>\n",
       "      <td>8410.201042</td>\n",
       "    </tr>\n",
       "    <tr>\n",
       "      <th>14</th>\n",
       "      <td>United Kingdom</td>\n",
       "      <td>20</td>\n",
       "      <td>7393.583333</td>\n",
       "    </tr>\n",
       "    <tr>\n",
       "      <th>17</th>\n",
       "      <td>United States</td>\n",
       "      <td>20</td>\n",
       "      <td>12992.416667</td>\n",
       "    </tr>\n",
       "    <tr>\n",
       "      <th>18</th>\n",
       "      <td>United States</td>\n",
       "      <td>3</td>\n",
       "      <td>8245.187500</td>\n",
       "    </tr>\n",
       "    <tr>\n",
       "      <th>22</th>\n",
       "      <td>Israel</td>\n",
       "      <td>5</td>\n",
       "      <td>10070.522100</td>\n",
       "    </tr>\n",
       "    <tr>\n",
       "      <th>...</th>\n",
       "      <td>...</td>\n",
       "      <td>...</td>\n",
       "      <td>...</td>\n",
       "    </tr>\n",
       "    <tr>\n",
       "      <th>51371</th>\n",
       "      <td>Netherlands</td>\n",
       "      <td>5</td>\n",
       "      <td>6182.795699</td>\n",
       "    </tr>\n",
       "    <tr>\n",
       "      <th>51378</th>\n",
       "      <td>Cyprus</td>\n",
       "      <td>5</td>\n",
       "      <td>8960.573477</td>\n",
       "    </tr>\n",
       "    <tr>\n",
       "      <th>51382</th>\n",
       "      <td>France</td>\n",
       "      <td>1</td>\n",
       "      <td>2688.172043</td>\n",
       "    </tr>\n",
       "    <tr>\n",
       "      <th>51387</th>\n",
       "      <td>United States</td>\n",
       "      <td>1</td>\n",
       "      <td>5796.616667</td>\n",
       "    </tr>\n",
       "    <tr>\n",
       "      <th>51390</th>\n",
       "      <td>United States</td>\n",
       "      <td>3</td>\n",
       "      <td>3997.666667</td>\n",
       "    </tr>\n",
       "  </tbody>\n",
       "</table>\n",
       "<p>10809 rows × 3 columns</p>\n",
       "</div>"
      ],
      "text/plain": [
       "              Country YearsCodePro  Monthly_Sal_EUR\n",
       "2      United Kingdom           20      8410.201042\n",
       "14     United Kingdom           20      7393.583333\n",
       "17      United States           20     12992.416667\n",
       "18      United States            3      8245.187500\n",
       "22             Israel            5     10070.522100\n",
       "...               ...          ...              ...\n",
       "51371     Netherlands            5      6182.795699\n",
       "51378          Cyprus            5      8960.573477\n",
       "51382          France            1      2688.172043\n",
       "51387   United States            1      5796.616667\n",
       "51390   United States            3      3997.666667\n",
       "\n",
       "[10809 rows x 3 columns]"
      ]
     },
     "execution_count": 117,
     "metadata": {},
     "output_type": "execute_result"
    }
   ],
   "source": [
    "df_2017 = data_frames_dict[2017]\n",
    "\n",
    "# annual salary divide by 12\n",
    "annual_rate = float (1/12)\n",
    "\n",
    "\n",
    "# for each currency entry, replace it with its currency symbol\n",
    "df_2017.Currency = df_2017.Currency.apply(lambda x: currency_dict[x])\n",
    "\n",
    "\n",
    "# Filter out the currencies that we cannot convert\n",
    "df_2017 = df_2017[df_2017.Currency.apply(lambda c:   c  in available_currencies_for_conversion)]\n",
    "    \n",
    "# Covert salary to a euros and divide it by 12  \n",
    "df_2017['Monthly_Sal_EUR'] = df_2017.apply(lambda row : convert_currency(row['Salary'],\n",
    "                     row['Currency'], annual_rate), axis = 1)\n",
    "\n",
    "# drop Currency, Salary columns \n",
    "# drop c salaries less than min_salary and greater than max salary \n",
    "df_2017 = df_2017.drop(['Currency','Salary' ], axis=1)\n",
    "df_2017 = df_2017[(df_2017.Monthly_Sal_EUR > min_montly_salary) & (df_2017.Monthly_Sal_EUR < max_montly_salary)]\n",
    "\n",
    "# process years of experience (find the years in the experience description and take the least number)\n",
    "df_2017.YearsCodedJob = df_2017.YearsCodedJob.apply(lambda experience:   min(map(lambda s: int(s), re.findall(r'\\d+', experience)), default=\"NA\"))\n",
    "\n",
    "#rename YearsCodedJob to YearsCodePro\n",
    "df_2017.columns = df_2017.columns.str.replace(\"YearsCodedJob\",\"YearsCodePro\")\n",
    "\n",
    "#drop any NA \n",
    "df_2017= df_2017.dropna(thresh=3)\n",
    "\n",
    "clean_payment_dataframes_2017_to_2020[2017] = df_2017\n",
    "df_2017"
   ]
  },
  {
   "cell_type": "markdown",
   "metadata": {},
   "source": [
    "### Process 2018 payments"
   ]
  },
  {
   "cell_type": "code",
   "execution_count": 118,
   "metadata": {},
   "outputs": [
    {
     "name": "stdout",
     "output_type": "stream",
     "text": [
      "          Country  ConvertedSalary YearsCodingProf\n",
      "1  United Kingdom          70841.0     18-20 years\n",
      "4    South Africa          21426.0       0-2 years\n",
      "5  United Kingdom          41671.0       3-5 years\n",
      "6   United States         120000.0       0-2 years\n",
      "8   United States         250000.0     21-23 years\n"
     ]
    },
    {
     "data": {
      "text/html": [
       "<div>\n",
       "<style scoped>\n",
       "    .dataframe tbody tr th:only-of-type {\n",
       "        vertical-align: middle;\n",
       "    }\n",
       "\n",
       "    .dataframe tbody tr th {\n",
       "        vertical-align: top;\n",
       "    }\n",
       "\n",
       "    .dataframe thead th {\n",
       "        text-align: right;\n",
       "    }\n",
       "</style>\n",
       "<table border=\"1\" class=\"dataframe\">\n",
       "  <thead>\n",
       "    <tr style=\"text-align: right;\">\n",
       "      <th></th>\n",
       "      <th>Country</th>\n",
       "      <th>YearsCodePro</th>\n",
       "      <th>Monthly_Sal_EUR</th>\n",
       "      <th>YearsCodePro</th>\n",
       "    </tr>\n",
       "  </thead>\n",
       "  <tbody>\n",
       "    <tr>\n",
       "      <th>1</th>\n",
       "      <td>United Kingdom</td>\n",
       "      <td>18-20 years</td>\n",
       "      <td>7079.967608</td>\n",
       "      <td>18</td>\n",
       "    </tr>\n",
       "    <tr>\n",
       "      <th>4</th>\n",
       "      <td>South Africa</td>\n",
       "      <td>0-2 years</td>\n",
       "      <td>2141.350150</td>\n",
       "      <td>0</td>\n",
       "    </tr>\n",
       "    <tr>\n",
       "      <th>5</th>\n",
       "      <td>United Kingdom</td>\n",
       "      <td>3-5 years</td>\n",
       "      <td>4164.669192</td>\n",
       "      <td>3</td>\n",
       "    </tr>\n",
       "    <tr>\n",
       "      <th>6</th>\n",
       "      <td>United States</td>\n",
       "      <td>0-2 years</td>\n",
       "      <td>11993.000000</td>\n",
       "      <td>0</td>\n",
       "    </tr>\n",
       "    <tr>\n",
       "      <th>17</th>\n",
       "      <td>Sweden</td>\n",
       "      <td>0-2 years</td>\n",
       "      <td>4787.605600</td>\n",
       "      <td>0</td>\n",
       "    </tr>\n",
       "    <tr>\n",
       "      <th>...</th>\n",
       "      <td>...</td>\n",
       "      <td>...</td>\n",
       "      <td>...</td>\n",
       "      <td>...</td>\n",
       "    </tr>\n",
       "    <tr>\n",
       "      <th>87235</th>\n",
       "      <td>Kyrgyzstan</td>\n",
       "      <td>0-2 years</td>\n",
       "      <td>1559.090000</td>\n",
       "      <td>0</td>\n",
       "    </tr>\n",
       "    <tr>\n",
       "      <th>87239</th>\n",
       "      <td>Armenia</td>\n",
       "      <td>0-2 years</td>\n",
       "      <td>499.708333</td>\n",
       "      <td>0</td>\n",
       "    </tr>\n",
       "    <tr>\n",
       "      <th>87246</th>\n",
       "      <td>Pakistan</td>\n",
       "      <td>0-2 years</td>\n",
       "      <td>325.010300</td>\n",
       "      <td>0</td>\n",
       "    </tr>\n",
       "    <tr>\n",
       "      <th>87259</th>\n",
       "      <td>Argentina</td>\n",
       "      <td>0-2 years</td>\n",
       "      <td>2398.600000</td>\n",
       "      <td>0</td>\n",
       "    </tr>\n",
       "    <tr>\n",
       "      <th>87282</th>\n",
       "      <td>United States</td>\n",
       "      <td>6-8 years</td>\n",
       "      <td>14541.512500</td>\n",
       "      <td>6</td>\n",
       "    </tr>\n",
       "  </tbody>\n",
       "</table>\n",
       "<p>43821 rows × 4 columns</p>\n",
       "</div>"
      ],
      "text/plain": [
       "              Country  YearsCodePro  Monthly_Sal_EUR  YearsCodePro\n",
       "1      United Kingdom   18-20 years      7079.967608            18\n",
       "4        South Africa     0-2 years      2141.350150             0\n",
       "5      United Kingdom     3-5 years      4164.669192             3\n",
       "6       United States     0-2 years     11993.000000             0\n",
       "17             Sweden     0-2 years      4787.605600             0\n",
       "...               ...           ...              ...           ...\n",
       "87235      Kyrgyzstan     0-2 years      1559.090000             0\n",
       "87239         Armenia     0-2 years       499.708333             0\n",
       "87246        Pakistan     0-2 years       325.010300             0\n",
       "87259       Argentina     0-2 years      2398.600000             0\n",
       "87282   United States     6-8 years     14541.512500             6\n",
       "\n",
       "[43821 rows x 4 columns]"
      ]
     },
     "execution_count": 118,
     "metadata": {},
     "output_type": "execute_result"
    }
   ],
   "source": [
    "df_2018 = data_frames_dict[2018]\n",
    "\n",
    "print(df_2018.head())\n",
    "\n",
    "# convert the converted annual USD salary to monthly salary \n",
    "df_2018['Monthly_Sal_EUR'] = df_2018.apply(\n",
    "    lambda row : convert_currency(row['ConvertedSalary'],'USD', annual_rate), axis = 1)\n",
    "\n",
    "# We are no longer interested in the ConvertedSalary\n",
    "# Also drop outlier salaries \n",
    "df_2018 = df_2018.drop('ConvertedSalary', axis=1)[(df_2018.Monthly_Sal_EUR > min_montly_salary) & (df_2018.Monthly_Sal_EUR < max_montly_salary)]\n",
    "\n",
    "df_2018['YearsCodePro'] = df_2018.YearsCodingProf.apply(lambda experience:   min(map(lambda s: int(s), re.findall(r'\\d+', experience)), default=\"NA\"))\n",
    "\n",
    "# rename YearsCodingProf to YearsCodePro\n",
    "df_2018.columns = df_2018.columns.str.replace(\"YearsCodingProf\",\"YearsCodePro\")\n",
    "\n",
    "# drop any NA at this point \n",
    "df_2018= df_2018.dropna(thresh=3)\n",
    "\n",
    "clean_payment_dataframes_2017_to_2020[2018] = df_2018\n",
    "df_2018"
   ]
  },
  {
   "cell_type": "markdown",
   "metadata": {},
   "source": [
    "### Covert 2019 - 2021 - these data frames have the same salary related columns "
   ]
  },
  {
   "cell_type": "code",
   "execution_count": 119,
   "metadata": {},
   "outputs": [],
   "source": [
    "df_2019_2021 = [data_frames_dict[2019], data_frames_dict[2020], data_frames_dict[2021]]\n",
    "years = [2019, 2020, 2021]\n",
    "\n",
    "annual_rate = 1/12\n",
    "\n",
    "for year in years:\n",
    "    df = data_frames_dict[year]\n",
    "\n",
    "    # convert the converted annual USD salary to monthly salary \n",
    "    df['Monthly_Sal_EUR'] = df.apply(\n",
    "        lambda row : convert_currency(row['CompTotal'],'USD', annual_rate), axis = 1)\n",
    "    \n",
    "    # drop CompTotal column\n",
    "    # Also drop outlier salaries \n",
    "    df = df.drop('CompTotal', axis=1)[(df.Monthly_Sal_EUR > min_montly_salary) & (df.Monthly_Sal_EUR < max_montly_salary)]\n",
    "    df.YearsCodePro = df.YearsCodePro.apply(lambda experience:   min(map(lambda s: int(s), re.findall(r'\\d+', experience)), default=\"NA\"))\n",
    "    df= df.dropna(thresh=3)\n",
    "    clean_payment_dataframes_2017_to_2020[year] = df\n",
    "    \n"
   ]
  },
  {
   "cell_type": "markdown",
   "metadata": {},
   "source": [
    "### Compute a summary pdf - average of montly salaries per country "
   ]
  },
  {
   "cell_type": "code",
   "execution_count": 123,
   "metadata": {},
   "outputs": [
    {
     "name": "stdout",
     "output_type": "stream",
     "text": [
      "2017\n",
      "           Country  Monthly_Sal_EUR\n",
      "2   United Kingdom      8410.201042\n",
      "14  United Kingdom      7393.583333\n",
      "17   United States     12992.416667\n",
      "18   United States      8245.187500\n",
      "22          Israel     10070.522100\n",
      "25   United States     17489.791667\n",
      "34         Croatia      1236.559140\n",
      "36       Argentina      2818.355000\n",
      "37         Germany      9856.630824\n",
      "52          Brazil      5189.337030\n"
     ]
    },
    {
     "ename": "ValueError",
     "evalue": "cannot reindex from a duplicate axis",
     "output_type": "error",
     "traceback": [
      "\u001b[0;31m---------------------------------------------------------------------------\u001b[0m",
      "\u001b[0;31mValueError\u001b[0m                                Traceback (most recent call last)",
      "\u001b[0;32m/var/folders/h2/9wb_tlwj1bd2smbvq_25k5z4097jdb/T/ipykernel_2484/1524517271.py\u001b[0m in \u001b[0;36m<module>\u001b[0;34m\u001b[0m\n\u001b[1;32m      2\u001b[0m \u001b[0mi\u001b[0m \u001b[0;34m=\u001b[0m \u001b[0;36m0\u001b[0m\u001b[0;34m\u001b[0m\u001b[0;34m\u001b[0m\u001b[0m\n\u001b[1;32m      3\u001b[0m \u001b[0;32mfor\u001b[0m \u001b[0myear\u001b[0m\u001b[0;34m,\u001b[0m \u001b[0mdf\u001b[0m \u001b[0;32min\u001b[0m \u001b[0mclean_payment_dataframes_2017_to_2020\u001b[0m\u001b[0;34m.\u001b[0m\u001b[0mitems\u001b[0m\u001b[0;34m(\u001b[0m\u001b[0;34m)\u001b[0m\u001b[0;34m:\u001b[0m\u001b[0;34m\u001b[0m\u001b[0;34m\u001b[0m\u001b[0m\n\u001b[0;32m----> 4\u001b[0;31m     \u001b[0mdf\u001b[0m \u001b[0;34m=\u001b[0m \u001b[0mdf\u001b[0m\u001b[0;34m.\u001b[0m\u001b[0mfilter\u001b[0m\u001b[0;34m(\u001b[0m\u001b[0mitems\u001b[0m\u001b[0;34m=\u001b[0m\u001b[0;34m[\u001b[0m\u001b[0;34m'Country'\u001b[0m\u001b[0;34m,\u001b[0m \u001b[0;34m'Monthly_Sal_EUR'\u001b[0m\u001b[0;34m]\u001b[0m \u001b[0;34m)\u001b[0m\u001b[0;34m\u001b[0m\u001b[0;34m\u001b[0m\u001b[0m\n\u001b[0m\u001b[1;32m      5\u001b[0m     \u001b[0mprint\u001b[0m\u001b[0;34m(\u001b[0m\u001b[0myear\u001b[0m\u001b[0;34m)\u001b[0m\u001b[0;34m\u001b[0m\u001b[0;34m\u001b[0m\u001b[0m\n\u001b[1;32m      6\u001b[0m     \u001b[0mprint\u001b[0m\u001b[0;34m(\u001b[0m\u001b[0mdf\u001b[0m\u001b[0;34m.\u001b[0m\u001b[0mhead\u001b[0m\u001b[0;34m(\u001b[0m\u001b[0;36m10\u001b[0m\u001b[0;34m)\u001b[0m\u001b[0;34m)\u001b[0m\u001b[0;34m\u001b[0m\u001b[0;34m\u001b[0m\u001b[0m\n",
      "\u001b[0;32m/usr/local/anaconda3/lib/python3.9/site-packages/pandas/core/generic.py\u001b[0m in \u001b[0;36mfilter\u001b[0;34m(self, items, like, regex, axis)\u001b[0m\n\u001b[1;32m   4980\u001b[0m         \u001b[0;32mif\u001b[0m \u001b[0mitems\u001b[0m \u001b[0;32mis\u001b[0m \u001b[0;32mnot\u001b[0m \u001b[0;32mNone\u001b[0m\u001b[0;34m:\u001b[0m\u001b[0;34m\u001b[0m\u001b[0;34m\u001b[0m\u001b[0m\n\u001b[1;32m   4981\u001b[0m             \u001b[0mname\u001b[0m \u001b[0;34m=\u001b[0m \u001b[0mself\u001b[0m\u001b[0;34m.\u001b[0m\u001b[0m_get_axis_name\u001b[0m\u001b[0;34m(\u001b[0m\u001b[0maxis\u001b[0m\u001b[0;34m)\u001b[0m\u001b[0;34m\u001b[0m\u001b[0;34m\u001b[0m\u001b[0m\n\u001b[0;32m-> 4982\u001b[0;31m             \u001b[0;32mreturn\u001b[0m \u001b[0mself\u001b[0m\u001b[0;34m.\u001b[0m\u001b[0mreindex\u001b[0m\u001b[0;34m(\u001b[0m\u001b[0;34m**\u001b[0m\u001b[0;34m{\u001b[0m\u001b[0mname\u001b[0m\u001b[0;34m:\u001b[0m \u001b[0;34m[\u001b[0m\u001b[0mr\u001b[0m \u001b[0;32mfor\u001b[0m \u001b[0mr\u001b[0m \u001b[0;32min\u001b[0m \u001b[0mitems\u001b[0m \u001b[0;32mif\u001b[0m \u001b[0mr\u001b[0m \u001b[0;32min\u001b[0m \u001b[0mlabels\u001b[0m\u001b[0;34m]\u001b[0m\u001b[0;34m}\u001b[0m\u001b[0;34m)\u001b[0m\u001b[0;34m\u001b[0m\u001b[0;34m\u001b[0m\u001b[0m\n\u001b[0m\u001b[1;32m   4983\u001b[0m         \u001b[0;32melif\u001b[0m \u001b[0mlike\u001b[0m\u001b[0;34m:\u001b[0m\u001b[0;34m\u001b[0m\u001b[0;34m\u001b[0m\u001b[0m\n\u001b[1;32m   4984\u001b[0m \u001b[0;34m\u001b[0m\u001b[0m\n",
      "\u001b[0;32m/usr/local/anaconda3/lib/python3.9/site-packages/pandas/util/_decorators.py\u001b[0m in \u001b[0;36mwrapper\u001b[0;34m(*args, **kwargs)\u001b[0m\n\u001b[1;32m    322\u001b[0m         \u001b[0;34m@\u001b[0m\u001b[0mwraps\u001b[0m\u001b[0;34m(\u001b[0m\u001b[0mfunc\u001b[0m\u001b[0;34m)\u001b[0m\u001b[0;34m\u001b[0m\u001b[0;34m\u001b[0m\u001b[0m\n\u001b[1;32m    323\u001b[0m         \u001b[0;32mdef\u001b[0m \u001b[0mwrapper\u001b[0m\u001b[0;34m(\u001b[0m\u001b[0;34m*\u001b[0m\u001b[0margs\u001b[0m\u001b[0;34m,\u001b[0m \u001b[0;34m**\u001b[0m\u001b[0mkwargs\u001b[0m\u001b[0;34m)\u001b[0m \u001b[0;34m->\u001b[0m \u001b[0mCallable\u001b[0m\u001b[0;34m[\u001b[0m\u001b[0;34m...\u001b[0m\u001b[0;34m,\u001b[0m \u001b[0mAny\u001b[0m\u001b[0;34m]\u001b[0m\u001b[0;34m:\u001b[0m\u001b[0;34m\u001b[0m\u001b[0;34m\u001b[0m\u001b[0m\n\u001b[0;32m--> 324\u001b[0;31m             \u001b[0;32mreturn\u001b[0m \u001b[0mfunc\u001b[0m\u001b[0;34m(\u001b[0m\u001b[0;34m*\u001b[0m\u001b[0margs\u001b[0m\u001b[0;34m,\u001b[0m \u001b[0;34m**\u001b[0m\u001b[0mkwargs\u001b[0m\u001b[0;34m)\u001b[0m\u001b[0;34m\u001b[0m\u001b[0;34m\u001b[0m\u001b[0m\n\u001b[0m\u001b[1;32m    325\u001b[0m \u001b[0;34m\u001b[0m\u001b[0m\n\u001b[1;32m    326\u001b[0m         \u001b[0mkind\u001b[0m \u001b[0;34m=\u001b[0m \u001b[0minspect\u001b[0m\u001b[0;34m.\u001b[0m\u001b[0mParameter\u001b[0m\u001b[0;34m.\u001b[0m\u001b[0mPOSITIONAL_OR_KEYWORD\u001b[0m\u001b[0;34m\u001b[0m\u001b[0;34m\u001b[0m\u001b[0m\n",
      "\u001b[0;32m/usr/local/anaconda3/lib/python3.9/site-packages/pandas/core/frame.py\u001b[0m in \u001b[0;36mreindex\u001b[0;34m(self, *args, **kwargs)\u001b[0m\n\u001b[1;32m   4770\u001b[0m         \u001b[0mkwargs\u001b[0m\u001b[0;34m.\u001b[0m\u001b[0mpop\u001b[0m\u001b[0;34m(\u001b[0m\u001b[0;34m\"axis\"\u001b[0m\u001b[0;34m,\u001b[0m \u001b[0;32mNone\u001b[0m\u001b[0;34m)\u001b[0m\u001b[0;34m\u001b[0m\u001b[0;34m\u001b[0m\u001b[0m\n\u001b[1;32m   4771\u001b[0m         \u001b[0mkwargs\u001b[0m\u001b[0;34m.\u001b[0m\u001b[0mpop\u001b[0m\u001b[0;34m(\u001b[0m\u001b[0;34m\"labels\"\u001b[0m\u001b[0;34m,\u001b[0m \u001b[0;32mNone\u001b[0m\u001b[0;34m)\u001b[0m\u001b[0;34m\u001b[0m\u001b[0;34m\u001b[0m\u001b[0m\n\u001b[0;32m-> 4772\u001b[0;31m         \u001b[0;32mreturn\u001b[0m \u001b[0msuper\u001b[0m\u001b[0;34m(\u001b[0m\u001b[0;34m)\u001b[0m\u001b[0;34m.\u001b[0m\u001b[0mreindex\u001b[0m\u001b[0;34m(\u001b[0m\u001b[0;34m**\u001b[0m\u001b[0mkwargs\u001b[0m\u001b[0;34m)\u001b[0m\u001b[0;34m\u001b[0m\u001b[0;34m\u001b[0m\u001b[0m\n\u001b[0m\u001b[1;32m   4773\u001b[0m \u001b[0;34m\u001b[0m\u001b[0m\n\u001b[1;32m   4774\u001b[0m     \u001b[0;34m@\u001b[0m\u001b[0mdeprecate_nonkeyword_arguments\u001b[0m\u001b[0;34m(\u001b[0m\u001b[0mversion\u001b[0m\u001b[0;34m=\u001b[0m\u001b[0;32mNone\u001b[0m\u001b[0;34m,\u001b[0m \u001b[0mallowed_args\u001b[0m\u001b[0;34m=\u001b[0m\u001b[0;34m[\u001b[0m\u001b[0;34m\"self\"\u001b[0m\u001b[0;34m,\u001b[0m \u001b[0;34m\"labels\"\u001b[0m\u001b[0;34m]\u001b[0m\u001b[0;34m)\u001b[0m\u001b[0;34m\u001b[0m\u001b[0;34m\u001b[0m\u001b[0m\n",
      "\u001b[0;32m/usr/local/anaconda3/lib/python3.9/site-packages/pandas/core/generic.py\u001b[0m in \u001b[0;36mreindex\u001b[0;34m(self, *args, **kwargs)\u001b[0m\n\u001b[1;32m   4816\u001b[0m \u001b[0;34m\u001b[0m\u001b[0m\n\u001b[1;32m   4817\u001b[0m         \u001b[0;31m# perform the reindex on the axes\u001b[0m\u001b[0;34m\u001b[0m\u001b[0;34m\u001b[0m\u001b[0m\n\u001b[0;32m-> 4818\u001b[0;31m         return self._reindex_axes(\n\u001b[0m\u001b[1;32m   4819\u001b[0m             \u001b[0maxes\u001b[0m\u001b[0;34m,\u001b[0m \u001b[0mlevel\u001b[0m\u001b[0;34m,\u001b[0m \u001b[0mlimit\u001b[0m\u001b[0;34m,\u001b[0m \u001b[0mtolerance\u001b[0m\u001b[0;34m,\u001b[0m \u001b[0mmethod\u001b[0m\u001b[0;34m,\u001b[0m \u001b[0mfill_value\u001b[0m\u001b[0;34m,\u001b[0m \u001b[0mcopy\u001b[0m\u001b[0;34m\u001b[0m\u001b[0;34m\u001b[0m\u001b[0m\n\u001b[1;32m   4820\u001b[0m         ).__finalize__(self, method=\"reindex\")\n",
      "\u001b[0;32m/usr/local/anaconda3/lib/python3.9/site-packages/pandas/core/frame.py\u001b[0m in \u001b[0;36m_reindex_axes\u001b[0;34m(self, axes, level, limit, tolerance, method, fill_value, copy)\u001b[0m\n\u001b[1;32m   4589\u001b[0m         \u001b[0mcolumns\u001b[0m \u001b[0;34m=\u001b[0m \u001b[0maxes\u001b[0m\u001b[0;34m[\u001b[0m\u001b[0;34m\"columns\"\u001b[0m\u001b[0;34m]\u001b[0m\u001b[0;34m\u001b[0m\u001b[0;34m\u001b[0m\u001b[0m\n\u001b[1;32m   4590\u001b[0m         \u001b[0;32mif\u001b[0m \u001b[0mcolumns\u001b[0m \u001b[0;32mis\u001b[0m \u001b[0;32mnot\u001b[0m \u001b[0;32mNone\u001b[0m\u001b[0;34m:\u001b[0m\u001b[0;34m\u001b[0m\u001b[0;34m\u001b[0m\u001b[0m\n\u001b[0;32m-> 4591\u001b[0;31m             frame = frame._reindex_columns(\n\u001b[0m\u001b[1;32m   4592\u001b[0m                 \u001b[0mcolumns\u001b[0m\u001b[0;34m,\u001b[0m \u001b[0mmethod\u001b[0m\u001b[0;34m,\u001b[0m \u001b[0mcopy\u001b[0m\u001b[0;34m,\u001b[0m \u001b[0mlevel\u001b[0m\u001b[0;34m,\u001b[0m \u001b[0mfill_value\u001b[0m\u001b[0;34m,\u001b[0m \u001b[0mlimit\u001b[0m\u001b[0;34m,\u001b[0m \u001b[0mtolerance\u001b[0m\u001b[0;34m\u001b[0m\u001b[0;34m\u001b[0m\u001b[0m\n\u001b[1;32m   4593\u001b[0m             )\n",
      "\u001b[0;32m/usr/local/anaconda3/lib/python3.9/site-packages/pandas/core/frame.py\u001b[0m in \u001b[0;36m_reindex_columns\u001b[0;34m(self, new_columns, method, copy, level, fill_value, limit, tolerance)\u001b[0m\n\u001b[1;32m   4634\u001b[0m             \u001b[0mnew_columns\u001b[0m\u001b[0;34m,\u001b[0m \u001b[0mmethod\u001b[0m\u001b[0;34m=\u001b[0m\u001b[0mmethod\u001b[0m\u001b[0;34m,\u001b[0m \u001b[0mlevel\u001b[0m\u001b[0;34m=\u001b[0m\u001b[0mlevel\u001b[0m\u001b[0;34m,\u001b[0m \u001b[0mlimit\u001b[0m\u001b[0;34m=\u001b[0m\u001b[0mlimit\u001b[0m\u001b[0;34m,\u001b[0m \u001b[0mtolerance\u001b[0m\u001b[0;34m=\u001b[0m\u001b[0mtolerance\u001b[0m\u001b[0;34m\u001b[0m\u001b[0;34m\u001b[0m\u001b[0m\n\u001b[1;32m   4635\u001b[0m         )\n\u001b[0;32m-> 4636\u001b[0;31m         return self._reindex_with_indexers(\n\u001b[0m\u001b[1;32m   4637\u001b[0m             \u001b[0;34m{\u001b[0m\u001b[0;36m1\u001b[0m\u001b[0;34m:\u001b[0m \u001b[0;34m[\u001b[0m\u001b[0mnew_columns\u001b[0m\u001b[0;34m,\u001b[0m \u001b[0mindexer\u001b[0m\u001b[0;34m]\u001b[0m\u001b[0;34m}\u001b[0m\u001b[0;34m,\u001b[0m\u001b[0;34m\u001b[0m\u001b[0;34m\u001b[0m\u001b[0m\n\u001b[1;32m   4638\u001b[0m             \u001b[0mcopy\u001b[0m\u001b[0;34m=\u001b[0m\u001b[0mcopy\u001b[0m\u001b[0;34m,\u001b[0m\u001b[0;34m\u001b[0m\u001b[0;34m\u001b[0m\u001b[0m\n",
      "\u001b[0;32m/usr/local/anaconda3/lib/python3.9/site-packages/pandas/core/generic.py\u001b[0m in \u001b[0;36m_reindex_with_indexers\u001b[0;34m(self, reindexers, fill_value, copy, allow_dups)\u001b[0m\n\u001b[1;32m   4881\u001b[0m \u001b[0;34m\u001b[0m\u001b[0m\n\u001b[1;32m   4882\u001b[0m             \u001b[0;31m# TODO: speed up on homogeneous DataFrame objects\u001b[0m\u001b[0;34m\u001b[0m\u001b[0;34m\u001b[0m\u001b[0m\n\u001b[0;32m-> 4883\u001b[0;31m             new_data = new_data.reindex_indexer(\n\u001b[0m\u001b[1;32m   4884\u001b[0m                 \u001b[0mindex\u001b[0m\u001b[0;34m,\u001b[0m\u001b[0;34m\u001b[0m\u001b[0;34m\u001b[0m\u001b[0m\n\u001b[1;32m   4885\u001b[0m                 \u001b[0mindexer\u001b[0m\u001b[0;34m,\u001b[0m\u001b[0;34m\u001b[0m\u001b[0;34m\u001b[0m\u001b[0m\n",
      "\u001b[0;32m/usr/local/anaconda3/lib/python3.9/site-packages/pandas/core/internals/managers.py\u001b[0m in \u001b[0;36mreindex_indexer\u001b[0;34m(self, new_axis, indexer, axis, fill_value, allow_dups, copy, consolidate, only_slice)\u001b[0m\n\u001b[1;32m    668\u001b[0m         \u001b[0;31m# some axes don't allow reindexing with dups\u001b[0m\u001b[0;34m\u001b[0m\u001b[0;34m\u001b[0m\u001b[0m\n\u001b[1;32m    669\u001b[0m         \u001b[0;32mif\u001b[0m \u001b[0;32mnot\u001b[0m \u001b[0mallow_dups\u001b[0m\u001b[0;34m:\u001b[0m\u001b[0;34m\u001b[0m\u001b[0;34m\u001b[0m\u001b[0m\n\u001b[0;32m--> 670\u001b[0;31m             \u001b[0mself\u001b[0m\u001b[0;34m.\u001b[0m\u001b[0maxes\u001b[0m\u001b[0;34m[\u001b[0m\u001b[0maxis\u001b[0m\u001b[0;34m]\u001b[0m\u001b[0;34m.\u001b[0m\u001b[0m_validate_can_reindex\u001b[0m\u001b[0;34m(\u001b[0m\u001b[0mindexer\u001b[0m\u001b[0;34m)\u001b[0m\u001b[0;34m\u001b[0m\u001b[0;34m\u001b[0m\u001b[0m\n\u001b[0m\u001b[1;32m    671\u001b[0m \u001b[0;34m\u001b[0m\u001b[0m\n\u001b[1;32m    672\u001b[0m         \u001b[0;32mif\u001b[0m \u001b[0maxis\u001b[0m \u001b[0;34m>=\u001b[0m \u001b[0mself\u001b[0m\u001b[0;34m.\u001b[0m\u001b[0mndim\u001b[0m\u001b[0;34m:\u001b[0m\u001b[0;34m\u001b[0m\u001b[0;34m\u001b[0m\u001b[0m\n",
      "\u001b[0;32m/usr/local/anaconda3/lib/python3.9/site-packages/pandas/core/indexes/base.py\u001b[0m in \u001b[0;36m_validate_can_reindex\u001b[0;34m(self, indexer)\u001b[0m\n\u001b[1;32m   3783\u001b[0m         \u001b[0;31m# trying to reindex on an axis with duplicates\u001b[0m\u001b[0;34m\u001b[0m\u001b[0;34m\u001b[0m\u001b[0m\n\u001b[1;32m   3784\u001b[0m         \u001b[0;32mif\u001b[0m \u001b[0;32mnot\u001b[0m \u001b[0mself\u001b[0m\u001b[0;34m.\u001b[0m\u001b[0m_index_as_unique\u001b[0m \u001b[0;32mand\u001b[0m \u001b[0mlen\u001b[0m\u001b[0;34m(\u001b[0m\u001b[0mindexer\u001b[0m\u001b[0;34m)\u001b[0m\u001b[0;34m:\u001b[0m\u001b[0;34m\u001b[0m\u001b[0;34m\u001b[0m\u001b[0m\n\u001b[0;32m-> 3785\u001b[0;31m             \u001b[0;32mraise\u001b[0m \u001b[0mValueError\u001b[0m\u001b[0;34m(\u001b[0m\u001b[0;34m\"cannot reindex from a duplicate axis\"\u001b[0m\u001b[0;34m)\u001b[0m\u001b[0;34m\u001b[0m\u001b[0;34m\u001b[0m\u001b[0m\n\u001b[0m\u001b[1;32m   3786\u001b[0m \u001b[0;34m\u001b[0m\u001b[0m\n\u001b[1;32m   3787\u001b[0m     def reindex(\n",
      "\u001b[0;31mValueError\u001b[0m: cannot reindex from a duplicate axis"
     ]
    }
   ],
   "source": [
    "summary_df = None\n",
    "i = 0\n",
    "for year, df in clean_payment_dataframes_2017_to_2020.items():\n",
    "    df = df.filter(items=['Country', 'Monthly_Sal_EUR'] )\n",
    "    print(year)\n",
    "    print(df.head(10))\n",
    "    \n",
    "    # compute mean salary per country and reset the resulting df index\n",
    "    df =  df.groupby('Country').mean()\n",
    "    \n",
    "    # add column names \n",
    "    df.columns = ['Country', year]\n",
    "    \n",
    "    # merge the resulting dataframes into a single df columns = years, rows = countries\n",
    "    if i > 0:\n",
    "        summary_df = pd.DataFrame.merge(summary_df,df,on='Country')\n",
    "        i+=1 \n",
    "    else:\n",
    "        summary_df =  df\n",
    "        i+=1\n",
    "\n",
    "# Transpose the summary_df, now  columns = countries and rows = years \n",
    "summary_df = summary_df.T\n",
    "\n",
    "# Pick all the countries -> first row of the transposed matrix\n",
    "column_names = summary_df.iloc[0]\n",
    "column_names = list(column_names) \n",
    "\n",
    "# drop the first row containing countries' names, instead make the countries the column names \n",
    "summary_df = summary_df.drop('Country')\n",
    "summary_df.columns = column_names\n",
    "\n",
    "# You can finally do some simple plots \n",
    "summary_df.plot( xticks = [2017, 2018, 2019, 2020, 2021], title= \"A dirty plot of the world :P \")\n",
    "summary_df[['Uzbekistan','France'] ].plot( xticks = [2017, 2018, 2019, 2020, 2021], title = \"Uzbekistan vs. France \")\n",
    "\n"
   ]
  },
  {
   "cell_type": "code",
   "execution_count": null,
   "metadata": {},
   "outputs": [],
   "source": [
    "summary_df"
   ]
  },
  {
   "cell_type": "code",
   "execution_count": null,
   "metadata": {},
   "outputs": [],
   "source": [
    "df = clean_payment_dataframes_2017_to_2020[2017]\n",
    "df[df.Monthly_Sal_EUR > max_montly_salary]"
   ]
  },
  {
   "cell_type": "code",
   "execution_count": null,
   "metadata": {},
   "outputs": [],
   "source": [
    "summary_df = None\n",
    "i = 0\n",
    "for year, df in clean_payment_dataframes_2017_to_2020.items():\n",
    "    df = df.filter(items=['Country', 'YearsCodePro'] )\n",
    "    \n",
    "    # compute mean salary per country and reset the resulting df index\n",
    "    df =  df.groupby('Country').mean().reset_index()\n",
    "    \n",
    "    # add column names \n",
    "    df.columns = ['Country', year]\n",
    "    \n",
    "    # merge the resulting dataframes into a single df columns = years, rows = countries\n",
    "    if i > 0:\n",
    "        summary_df = pd.DataFrame.merge(summary_df,df,on='Country')\n",
    "        i+=1 \n",
    "    else:\n",
    "        summary_df =  df\n",
    "        i+=1\n",
    "\n",
    "# Transpose the summary_df, now  columns = countries and rows = years \n",
    "summary_df = summary_df.T\n",
    "\n",
    "# Pick all the countries -> first row of the transposed matrix\n",
    "column_names = summary_df.iloc[0]\n",
    "column_names = list(column_names) \n",
    "\n",
    "# drop the first row containing countries' names, instead make the countries the column names \n",
    "summary_df = summary_df.drop('Country')\n",
    "summary_df.columns = column_names\n",
    "\n",
    "# You can finally do some simple plots \n",
    "summary_df.plot( xticks = [2017, 2018, 2019, 2020, 2021], title= \"A dirty plot of the world :P \")\n",
    "summary_df[['Uzbekistan','France'] ].plot( xticks = [2017, 2018, 2019, 2020, 2021], title = \"Uzbekistan vs. France \")"
   ]
  },
  {
   "cell_type": "code",
   "execution_count": null,
   "metadata": {},
   "outputs": [],
   "source": []
  }
 ],
 "metadata": {
  "kernelspec": {
   "display_name": "Python 3 (ipykernel)",
   "language": "python",
   "name": "python3"
  },
  "language_info": {
   "codemirror_mode": {
    "name": "ipython",
    "version": 3
   },
   "file_extension": ".py",
   "mimetype": "text/x-python",
   "name": "python",
   "nbconvert_exporter": "python",
   "pygments_lexer": "ipython3",
   "version": "3.9.7"
  }
 },
 "nbformat": 4,
 "nbformat_minor": 4
}
