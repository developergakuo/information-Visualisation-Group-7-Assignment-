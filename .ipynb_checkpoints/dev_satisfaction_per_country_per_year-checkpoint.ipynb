{
 "cells": [
  {
   "cell_type": "code",
   "execution_count": 85,
   "metadata": {},
   "outputs": [],
   "source": [
    "import pandas as pd\n",
    "import numpy as np\n",
    "import re #Regex lib\n",
    "from forex_python.converter import CurrencyRates #currencies lib\n",
    "from datetime import datetime\n",
    "import matplotlib"
   ]
  },
  {
   "cell_type": "markdown",
   "metadata": {},
   "source": [
    "### Read in the dataframes and create a dict {(year, dataframe)}\n"
   ]
  },
  {
   "cell_type": "code",
   "execution_count": 86,
   "metadata": {},
   "outputs": [],
   "source": [
    "# Create a list of filenames for the datasets\n",
    "years = [2017, 2018, 2019, 2020]\n",
    "file_names = ['datasets/{}.csv'.format(year) for year in years]\n",
    "\n",
    "# Read in the dataframes and create a dict {(year, dataframe)}\n",
    "data_frames_dict = {}\n",
    "\n",
    "data_frames_dict[2017] = pd.read_csv('datasets/2017.csv', encoding = \"ISO-8859-1\").filter(items=['Country', 'CareerSatisfaction']).dropna(thresh=2) \n",
    "data_frames_dict[2018] = pd.read_csv('datasets/2018.csv', encoding = \"ISO-8859-1\").filter(items=['Country',  'JobSatisfaction']).dropna(thresh=2) \n",
    "data_frames_dict[2019] = pd.read_csv('datasets/2019.csv', encoding = \"ISO-8859-1\").filter (items=['Country',  'CareerSat']).dropna(thresh=2) \n",
    "data_frames_dict[2020] = pd.read_csv('datasets/2020.csv', encoding = \"ISO-8859-1\").filter (items=['Country',  'JobSat']).dropna(thresh=2) \n"
   ]
  },
  {
   "cell_type": "code",
   "execution_count": 87,
   "metadata": {},
   "outputs": [],
   "source": [
    "sat_mappings_dict = {\n",
    "    0.0 :  'Very dissatisfied',\n",
    "    1.0 :  'Very dissatisfied',\n",
    "    2.0 : 'Slightly dissatisfied',\n",
    "    3.0 : 'Slightly dissatisfied',\n",
    "    4.0 : 'Neither satisfied nor dissatisfied',\n",
    "    5.0 : 'Neither satisfied nor dissatisfied',\n",
    "    6.0 : 'Neither satisfied nor dissatisfied',\n",
    "    7.0 : 'Slightly satisfied',\n",
    "    8.0 : 'Slightly satisfied',\n",
    "    9.0 : 'Very satisfied',\n",
    "    10.0 : 'Very satisfied',\n",
    "    'Extremely dissatisfied' : 'Very dissatisfied',\n",
    "    'Moderately dissatisfied' : 'Slightly dissatisfied',\n",
    "    'Slightly dissatisfied': 'Slightly dissatisfied', \n",
    "    'Neither satisfied nor dissatisfied' : 'Neither satisfied nor dissatisfied',\n",
    "    'Slightly satisfied' :   'Slightly satisfied',\n",
    "    'Moderately satisfied' : 'Slightly satisfied',\n",
    "    'Extremely satisfied' :  'Very satisfied'\n",
    "    \n",
    "}"
   ]
  },
  {
   "cell_type": "markdown",
   "metadata": {},
   "source": [
    "### obtain developer types \n"
   ]
  },
  {
   "cell_type": "code",
   "execution_count": 88,
   "metadata": {},
   "outputs": [
    {
     "name": "stdout",
     "output_type": "stream",
     "text": [
      "[ 8.  6.  7.  3.  9.  5. 10.  4.  0.  2.  1.]\n",
      "['Extremely satisfied' 'Moderately dissatisfied' 'Moderately satisfied'\n",
      " 'Neither satisfied nor dissatisfied' 'Slightly satisfied'\n",
      " 'Slightly dissatisfied' 'Extremely dissatisfied']\n",
      "['Slightly satisfied' 'Very satisfied' 'Very dissatisfied'\n",
      " 'Slightly dissatisfied' 'Neither satisfied nor dissatisfied']\n",
      "['Slightly satisfied' 'Very dissatisfied' 'Slightly dissatisfied'\n",
      " 'Very satisfied' 'Neither satisfied nor dissatisfied']\n"
     ]
    }
   ],
   "source": [
    "for year, df in data_frames_dict.items():\n",
    "    # change column names (uniformity)\n",
    "    df.columns = ['Country', 'JobSatisfaction']\n",
    "    \n",
    "    # get unique satisfactions\n",
    "    print(df.JobSatisfaction.unique())\n",
    "    \n",
    "    if year == 2017 or year == 2018:\n",
    "        df['JobSatisfaction'] = df.JobSatisfaction.apply(lambda x: sat_mappings_dict[x])\n",
    "       \n",
    "    df['SatCount'] = pd.Series(np.ones(len(df.JobSatisfaction)), index=df.index)  \n",
    "    df = df.groupby(by=['Country','JobSatisfaction'] , as_index=False).sum()\n",
    "\n",
    "    df.to_csv(path_or_buf = 'processed_data/satisfaction/{}-satisfaction_count_per_country.csv'.format(year), index=False)\n",
    "    \n",
    "        \n"
   ]
  },
  {
   "cell_type": "code",
   "execution_count": null,
   "metadata": {},
   "outputs": [],
   "source": []
  }
 ],
 "metadata": {
  "kernelspec": {
   "display_name": "Python 3 (ipykernel)",
   "language": "python",
   "name": "python3"
  },
  "language_info": {
   "codemirror_mode": {
    "name": "ipython",
    "version": 3
   },
   "file_extension": ".py",
   "mimetype": "text/x-python",
   "name": "python",
   "nbconvert_exporter": "python",
   "pygments_lexer": "ipython3",
   "version": "3.9.7"
  }
 },
 "nbformat": 4,
 "nbformat_minor": 4
}
