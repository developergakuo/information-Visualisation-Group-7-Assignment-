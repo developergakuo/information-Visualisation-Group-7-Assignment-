{
 "cells": [
  {
   "cell_type": "code",
   "execution_count": 34,
   "metadata": {},
   "outputs": [],
   "source": [
    "import pandas as pd\n",
    "import numpy as np\n",
    "import re #Regex lib\n",
    "from forex_python.converter import CurrencyRates #currencies lib\n",
    "from datetime import datetime\n",
    "import matplotlib"
   ]
  },
  {
   "cell_type": "markdown",
   "metadata": {},
   "source": [
    "### Read in the dataframes and create a dict {(year, dataframe)}\n"
   ]
  },
  {
   "cell_type": "code",
   "execution_count": 35,
   "metadata": {},
   "outputs": [
    {
     "name": "stderr",
     "output_type": "stream",
     "text": [
      "/var/folders/h2/9wb_tlwj1bd2smbvq_25k5z4097jdb/T/ipykernel_15653/1446315357.py:9: DtypeWarning: Columns (8,12,13,14,15,16,50,51,52,53,55,56,57,58,59,60,61,62,63,64,65,66,67,68,69,70,71,72,73,74,75,76,77,78,79,80,81,82,83,84,85,93,94,95,96,97,98,99,100,101,102,103,104,105,106,107,108,109,110,111,112,113,114,115,116,117,118,119,120,121,122,123,124,125,126,127,128) have mixed types. Specify dtype option on import or set low_memory=False.\n",
      "  data_frames_dict[2018] = pd.read_csv('datasets/2018.csv', encoding = \"ISO-8859-1\").filter(items=['Country',  'FormalEducation']).dropna(thresh=2)\n"
     ]
    }
   ],
   "source": [
    "# Create a list of filenames for the datasets\n",
    "years = [2017, 2018, 2019, 2020, 2021]\n",
    "file_names = ['datasets/{}.csv'.format(year) for year in years]\n",
    "\n",
    "# Read in the dataframes and create a dict {(year, dataframe)}\n",
    "data_frames_dict = {}\n",
    "\n",
    "data_frames_dict[2017] = pd.read_csv('datasets/2017.csv', encoding = \"ISO-8859-1\").filter(items=['Country', 'FormalEducation']).dropna(thresh=2) \n",
    "data_frames_dict[2018] = pd.read_csv('datasets/2018.csv', encoding = \"ISO-8859-1\").filter(items=['Country',  'FormalEducation']).dropna(thresh=2) \n",
    "data_frames_dict[2019] = pd.read_csv('datasets/2019.csv', encoding = \"ISO-8859-1\").filter (items=['Country',  'EdLevel']).dropna(thresh=2) \n",
    "data_frames_dict[2020] = pd.read_csv('datasets/2020.csv', encoding = \"ISO-8859-1\").filter (items=['Country',  'EdLevel']).dropna(thresh=2) \n",
    "data_frames_dict[2021] = pd.read_csv('datasets/2021.csv', encoding = \"ISO-8859-1\").filter (items=['Country',  'EdLevel']).dropna(thresh=2) \n"
   ]
  },
  {
   "cell_type": "code",
   "execution_count": 36,
   "metadata": {},
   "outputs": [],
   "source": [
    "ed_dict =  {'Secondary school': 'Secondary school',\n",
    " \"Some college/university study without earning a bachelor's degree\" : \"college/university without bachelor's degree\",\n",
    " \"Bachelor's degree\": \"Bachelor's degree\",\n",
    " 'Doctoral degree': 'Doctoral degree',\n",
    " \"Master's degree\": \"Master's degree\",\n",
    " 'Professional degree': \"Professional degree\",\n",
    " 'Primary/elementary school': 'Primary/elementary school',\n",
    " 'I prefer not to answer': 'I prefer not to answer',\n",
    " 'I never completed any formal education': 'No formal education', \n",
    " 'Bachelorâ\\x80\\x99s degree (BA, BS, B.Eng., etc.)': \"Bachelor's degree\",\n",
    " 'Associate degree': 'Associate degree',\n",
    " 'Some college/university study without earning a degree': \"college/university without bachelor's degree\",\n",
    " 'Masterâ\\x80\\x99s degree (MA, MS, M.Eng., MBA, etc.)': \"Master's degree\",\n",
    " 'Secondary school (e.g. American high school, German Realschule or Gymnasium, etc.)': 'Secondary school',\n",
    " 'Professional degree (JD, MD, etc.)': \"Professional degree\",\n",
    " 'I never completed any formal education': 'No formal education', \n",
    " 'Other doctoral degree (Ph.D, Ed.D., etc.)':  'Doctoral degree',\n",
    " 'Associate degree (A.A., A.S., etc.)': 'Associate degree',\n",
    " 'Something else': 'Something else', \n",
    " 'Masterâ\\x80\\x99s degree (M.A., M.S., M.Eng., MBA, etc.)': \"Master's degree\",\n",
    " 'Bachelorâ\\x80\\x99s degree (B.A., B.S., B.Eng., etc.)' : \"Bachelor's degree\",\n",
    " 'Other doctoral degree (Ph.D., Ed.D., etc.)' : 'Doctoral degree'\n",
    "}\n",
    "\n",
    "\n",
    "    \n"
   ]
  },
  {
   "cell_type": "markdown",
   "metadata": {},
   "source": [
    "### obtain developer types \n"
   ]
  },
  {
   "cell_type": "code",
   "execution_count": 37,
   "metadata": {},
   "outputs": [
    {
     "name": "stdout",
     "output_type": "stream",
     "text": [
      "(201, 2)\n",
      "          Country  respondentsCount\n",
      "0     Afghanistan                60\n",
      "1   Aland Islands                22\n",
      "2         Albania                76\n",
      "3         Algeria                41\n",
      "4  American Samoa                 5\n",
      "(183, 2)\n",
      "       Country  respondentsCount\n",
      "0  Afghanistan                53\n",
      "1      Albania                99\n",
      "2      Algeria               116\n",
      "3      Andorra                12\n",
      "4       Angola                 8\n",
      "(178, 2)\n",
      "       Country  respondentsCount\n",
      "0  Afghanistan                39\n",
      "1      Albania                81\n",
      "2      Algeria               122\n",
      "3      Andorra                 7\n",
      "4       Angola                 3\n",
      "(179, 2)\n",
      "       Country  respondentsCount\n",
      "0  Afghanistan                60\n",
      "1      Albania                46\n",
      "2      Algeria                77\n",
      "3      Andorra                 6\n",
      "4       Angola                 5\n",
      "(181, 2)\n",
      "       Country  respondentsCount\n",
      "0  Afghanistan                61\n",
      "1      Albania                71\n",
      "2      Algeria                46\n",
      "3      Andorra                12\n",
      "4       Angola                27\n"
     ]
    }
   ],
   "source": [
    "import codecs\n",
    "import json\n",
    "for year, df in data_frames_dict.items():\n",
    "    df.columns = ['Country',  'EdLevel']\n",
    "  \n",
    "    \n",
    "\n",
    "    \n",
    "    # get unique satisfactions\n",
    "    #print(df.JobSatisfaction.unique())\n",
    "   \n",
    "    df['EdLevel'] = df.EdLevel.apply(lambda x: ed_dict[x])\n",
    "        \n",
    "    df2 = df.copy(deep=True)\n",
    "       \n",
    "    df['EdLevelCount'] = pd.Series(np.ones(len(df.EdLevel),dtype= np.int32), index=df.index)  \n",
    "    df = df.groupby(by=['Country','EdLevel'] , as_index=False).sum()\n",
    "   \n",
    "    \n",
    "    \n",
    "    json_dict = {}\n",
    "    for k, v in df.groupby('Country'):\n",
    "        inner_dict = {}\n",
    "        for sat, count in zip(v['EdLevel'], v['EdLevelCount']):\n",
    "            inner_dict[sat] = count \n",
    "        json_dict[k] = inner_dict\n",
    "        \n",
    " \n",
    "        \n",
    "    with codecs.open(\"processed_data/education/{}-education_count_per_country.json\".format(year), \"w\", encoding='utf-8') as outfile:\n",
    "        json.dump(json_dict, outfile, indent = 4, ensure_ascii=False)\n",
    "\n",
    "    \n",
    "    df2.columns = ['Country', 'respondentsCount']\n",
    "\n",
    "    df2 = df2.groupby(by=['Country'] , as_index=False).count()\n",
    "    \n",
    "    print(df2.shape)\n",
    "        \n",
    "    print(df2.head())\n",
    "    \n",
    "    json_dict2 = {}\n",
    "    for index, row in df2.iterrows():\n",
    "        json_dict2[row[\"Country\"]] = row[\"respondentsCount\"]\n",
    "  \n",
    "\n",
    "    \n",
    "  \n",
    "    with codecs.open(\"processed_data/education/{}-education_respondents_count_per_country.json\".format(year), \"w\", encoding='utf-8') as outfile:\n",
    "        json.dump(json_dict2, outfile, indent = 4, ensure_ascii=False)\n",
    "\n"
   ]
  },
  {
   "cell_type": "code",
   "execution_count": null,
   "metadata": {},
   "outputs": [],
   "source": []
  }
 ],
 "metadata": {
  "kernelspec": {
   "display_name": "Python 3 (ipykernel)",
   "language": "python",
   "name": "python3"
  },
  "language_info": {
   "codemirror_mode": {
    "name": "ipython",
    "version": 3
   },
   "file_extension": ".py",
   "mimetype": "text/x-python",
   "name": "python",
   "nbconvert_exporter": "python",
   "pygments_lexer": "ipython3",
   "version": "3.9.12"
  }
 },
 "nbformat": 4,
 "nbformat_minor": 4
}
